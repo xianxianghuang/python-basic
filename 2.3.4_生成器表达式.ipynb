{
 "cells": [
  {
   "cell_type": "markdown",
   "metadata": {},
   "source": [
    "1. 列表推导式和生成器表达式的区别：\n",
    "列表推导式和生成器表达式是在Python中用于快速创建列表和生成器的语法构造。它们的主要区别在于它们创建和返回的对象类型以及它们的计算方式。\n",
    "\n",
    "列表推导式（List Comprehension）是一种用于创建列表的简洁语法。它使用方括号 `[]`，并可以在一个表达式中包含循环和条件语句，以便根据特定的规则生成列表。列表推导式会立即计算并返回一个完整的列表对象。\n",
    "\n",
    "以下是一个示例，使用列表推导式创建一个包含1到5的平方的列表：\n",
    "\n",
    "```python\n",
    "squares = [x**2 for x in range(1, 6)]\n",
    "print(squares)\n",
    "```\n",
    "\n",
    "输出结果：\n",
    "```\n",
    "[1, 4, 9, 16, 25]\n",
    "```\n",
    "\n",
    "生成器表达式（Generator Expression）与列表推导式的语法非常相似，但它使用圆括号 `()` 来创建一个生成器对象。生成器表达式与列表推导式的主要区别在于它们返回一个生成器对象，而不是立即计算并返回一个完整的列表。\n",
    "\n",
    "**生成器对象是一个可迭代的序列，它可以被逐个访问，而不是一次性将所有元素存储在内存中。这种延迟计算的方式使得生成器表达式在处理大量数据或需要逐步生成结果时非常高效。**\n",
    "\n",
    "以下是一个示例，使用生成器表达式创建一个生成器，生成1到5的平方：\n",
    "\n",
    "```python\n",
    "squares = (x**2 for x in range(1, 6))\n",
    "print(squares)\n",
    "\n",
    "for square in squares:\n",
    "    print(square)\n",
    "```\n",
    "\n",
    "输出结果：\n",
    "```\n",
    "<generator object <genexpr> at 0x000001234567890>\n",
    "1\n",
    "4\n",
    "9\n",
    "16\n",
    "25\n",
    "```\n",
    "\n",
    "在这个例子中，生成器表达式 `(x**2 for x in range(1, 6))` 创建了一个生成器对象。然后，我们可以通过迭代生成器对象来逐个获取平方值。\n",
    "\n",
    "总结来说，列表推导式和生成器表达式都是用于快速创建序列的语法构造。列表推导式返回一个完整的列表对象，而生成器表达式返回一个生成器对象，可以逐步生成结果。它们的选择取决于你的需求，如果需要一次性获取所有结果并在内存中存储，可以使用列表推导式；如果需要逐步生成结果或处理大量数据，可以使用生成器表达式。\n",
    "\n",
    "2. 为什么需要生成器表达式，直接使用列表推导式不香吗？\n",
    "虽然列表推导式可以生成元组、数组或其他类型的序列，但是生成器表达式占用的内存更少，因为生成器表达式使用迭代器协议诸葛产出项，而不是构建整个列表提供给其他构造函数。"
   ]
  },
  {
   "cell_type": "code",
   "execution_count": 1,
   "metadata": {},
   "outputs": [],
   "source": [
    "symbols = '@#$%^&^'"
   ]
  },
  {
   "cell_type": "markdown",
   "metadata": {},
   "source": [
    "**如果生成器表达式是函数的唯一入参，则不需要额外的括号**"
   ]
  },
  {
   "cell_type": "code",
   "execution_count": 2,
   "metadata": {},
   "outputs": [
    {
     "data": {
      "text/plain": [
       "(64, 35, 36, 37, 94, 38, 94)"
      ]
     },
     "execution_count": 2,
     "metadata": {},
     "output_type": "execute_result"
    }
   ],
   "source": [
    "tuple(ord(c) for c in symbols)"
   ]
  },
  {
   "cell_type": "code",
   "execution_count": 5,
   "metadata": {},
   "outputs": [
    {
     "data": {
      "text/plain": [
       "array('I', [64, 35, 36, 37, 94, 38, 94])"
      ]
     },
     "execution_count": 5,
     "metadata": {},
     "output_type": "execute_result"
    }
   ],
   "source": [
    "import array\n",
    "array.array('I', (ord(c) for c in symbols))"
   ]
  },
  {
   "cell_type": "markdown",
   "metadata": {},
   "source": [
    "这种方式中，没有构造包含6中组合的列表"
   ]
  },
  {
   "cell_type": "code",
   "execution_count": 6,
   "metadata": {},
   "outputs": [
    {
     "name": "stdout",
     "output_type": "stream",
     "text": [
      "black S\n",
      "black M\n",
      "black L\n",
      "white S\n",
      "white M\n",
      "white L\n"
     ]
    }
   ],
   "source": [
    "colors = ['black', 'white']\n",
    "sizes = ['S', 'M', 'L']\n",
    "for tshirts in (f'{c} {s}' for c in colors for s in sizes):\n",
    "    print(tshirts)"
   ]
  },
  {
   "cell_type": "code",
   "execution_count": null,
   "metadata": {},
   "outputs": [],
   "source": []
  }
 ],
 "metadata": {
  "kernelspec": {
   "display_name": "Python 3",
   "language": "python",
   "name": "python3"
  },
  "language_info": {
   "codemirror_mode": {
    "name": "ipython",
    "version": 3
   },
   "file_extension": ".py",
   "mimetype": "text/x-python",
   "name": "python",
   "nbconvert_exporter": "python",
   "pygments_lexer": "ipython3",
   "version": "3.10.1"
  }
 },
 "nbformat": 4,
 "nbformat_minor": 2
}
